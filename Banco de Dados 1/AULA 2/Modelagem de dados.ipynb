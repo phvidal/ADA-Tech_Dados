{
 "cells": [
  {
   "cell_type": "markdown",
   "id": "adc55110",
   "metadata": {},
   "source": [
    "**Sistema de Vendas**\n",
    "\n",
    "\n",
    "Precisamos desenvolver um sistema de vendas para uma empresa de comércio eletrônico. O sistema deve permitir que os **clientes** façam **pedidos** de **produtos** disponíveis no catálogo da empresa. Cada pedido deve conter informações sobre o cliente que fez o pedido, a data do pedido, o status do pedido e o valor total. Além disso, o sistema deve controlar o estoque de produtos disponíveis e garantir que não seja permitido vender produtos com estoque insuficiente.\n",
    "\n",
    "Os produtos disponíveis para venda devem ser cadastrados no sistema e devem conter informações como nome, descrição, preço e quantidade em estoque. Cada pedido pode conter um ou mais itens, onde cada item é associado a um produto específico e possui informações sobre a quantidade do produto vendido, o preço unitário e o subtotal do item.\n",
    "\n",
    "O sistema deve permitir que os clientes cadastrados acessem suas informações pessoais, incluindo nome, email e telefone. Além disso, os clientes devem poder visualizar o histórico de pedidos que fizeram no sistema.\n"
   ]
  },
  {
   "cell_type": "markdown",
   "id": "1f6221de",
   "metadata": {},
   "source": [
    "&nbsp;\n",
    "\n",
    "#### MODELO ENTIDADE-RELACIONAMENTO (MER)\n",
    "\n",
    "\n",
    "Fornecer uma **representação visual e clara** da estrutura do banco de dados, que pode ser compreendida tanto por desenvolvedores quanto por usuários finais. Ele ajuda a **definir a organização dos dados** e as **associações** entre as diferentes *entidades*, garantindo que as informações sejam armazenadas de forma eficiente e que as *relações* entre os dados sejam bem estabelecidas.\n",
    "\n",
    "\n",
    "![MER](img/bd-mer.png)"
   ]
  },
  {
   "cell_type": "markdown",
   "id": "3a217c27",
   "metadata": {},
   "source": [
    "#### MODELAGEM CONCEITUAL\n",
    "\n",
    "&nbsp;\n",
    "\n",
    "Representa a **visão mais abstrata** e independente do banco de dados, focando nos principais **conceitos e entidades** envolvidas no sistema, sem levar em conta os detalhes técnicos da implementação. Nessa etapa, não estão definidos detalhes como tipos de dados ou chaves primárias. É uma representação de alto nível.\n",
    "\n",
    "&nbsp;\n",
    "\n",
    "***PRINCIPAIS COMPONENTES***\n",
    "\n",
    "**ENTIDADE**:Representam objetos ou conceitos do mundo real que precisam ser armazenados no banco de dados;\n",
    "\n",
    "**ATRIBUTO**: São as propriedades ou características das entidades;\n",
    "\n",
    "**RELACIONAMENTO**:Representam as associações entre as entidades;\n",
    "    \n",
    "**CARDINALIDADE**: Descreve o número de ocorrências de uma entidade que estão associadas a outra entidade em um relacionamento (por exemplo, um para um, um para muitos).\n",
    "\n",
    "&nbsp;\n",
    "\n",
    "![](img/mconceitual.png)\n",
    "\n",
    "&nbsp;"
   ]
  },
  {
   "cell_type": "markdown",
   "id": "8ac4edb8",
   "metadata": {},
   "source": [
    "**MODELO LÓGICO**\n",
    "\n",
    "Representa a tradução do modelo conceitual para uma **visão mais técnica e próxima da implementação.** Nessa etapa, são definidos os detalhes específicos de cada **tabela**, os **atributos** de cada entidade, os **tipos de dados** e as **chaves primárias e estrangeiras**.\n",
    "\n",
    "&nbsp;\n",
    "\n",
    "**PRINCIPAIS COMPONENTES**\n",
    "\n",
    "**TABELA**:Representação dos conjuntos de entidades no Modelo Lógico.\n",
    "\n",
    "**ATRIBUTO**:  Representam os atributos das entidades no Modelo Lógico. Cada atributo é representado como uma coluna na tabela e possui um nome e um tipo de dado associado (por exemplo, inteiro, caractere, data, etc.). As chaves primárias e chaves estrangeiras também são representadas como colunas na tabela.\n",
    "\n",
    "**CHAVE PRIMÁRIA**:Chaves primárias são colunas que identificam de forma única cada registro (linha) na tabela.\n",
    "\n",
    "**CHAVE ESTRANGEIRA**: Uma chave estrangeira em uma tabela faz referência à chave primária de outra tabela, criando assim um relacionamento entre as tabelas.\n",
    "\n",
    "&nbsp;\n",
    "\n",
    "![](img/mlogico1.png)"
   ]
  },
  {
   "cell_type": "markdown",
   "id": "6cd1f103",
   "metadata": {},
   "source": []
  }
 ],
 "metadata": {
  "kernelspec": {
   "display_name": "Python 3 (ipykernel)",
   "language": "python",
   "name": "python3"
  },
  "language_info": {
   "codemirror_mode": {
    "name": "ipython",
    "version": 3
   },
   "file_extension": ".py",
   "mimetype": "text/x-python",
   "name": "python",
   "nbconvert_exporter": "python",
   "pygments_lexer": "ipython3",
   "version": "3.8.8"
  }
 },
 "nbformat": 4,
 "nbformat_minor": 5
}
